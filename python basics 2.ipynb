{
  "nbformat": 4,
  "nbformat_minor": 0,
  "metadata": {
    "colab": {
      "provenance": [],
      "authorship_tag": "ABX9TyM3h+woA4Ho0VBWj9Gun1q4",
      "include_colab_link": true
    },
    "kernelspec": {
      "name": "python3",
      "display_name": "Python 3"
    },
    "language_info": {
      "name": "python"
    }
  },
  "cells": [
    {
      "cell_type": "markdown",
      "metadata": {
        "id": "view-in-github",
        "colab_type": "text"
      },
      "source": [
        "<a href=\"https://colab.research.google.com/github/Soorya-v2002/data-science-assignment/blob/main/python%20basics%202.ipynb\" target=\"_parent\"><img src=\"https://colab.research.google.com/assets/colab-badge.svg\" alt=\"Open In Colab\"/></a>"
      ]
    },
    {
      "cell_type": "markdown",
      "source": [
        "Take input of age of 3 people by user and determine oldest and\n",
        "youngest among them."
      ],
      "metadata": {
        "id": "Qe_2vZPbKW9M"
      }
    },
    {
      "cell_type": "code",
      "source": [
        "\n",
        "age1 = int(input(\"Enter the age of the first person: \"))\n",
        "age2 = int(input(\"Enter the age of the second person: \"))\n",
        "age3 = int(input(\"Enter the age of the third person: \"))\n",
        "\n",
        "\n",
        "ages = [age1, age2, age3]\n",
        "oldest = max(ages)\n",
        "youngest = min(ages)\n",
        "\n",
        "\n",
        "print(\"The oldest age is:\", oldest)\n",
        "print(\"The youngest age is:\", youngest)\n"
      ],
      "metadata": {
        "colab": {
          "base_uri": "https://localhost:8080/"
        },
        "id": "uunnjgLVKYAA",
        "outputId": "9bd4a5e2-95d1-41c9-a30c-79c4139aafad"
      },
      "execution_count": 1,
      "outputs": [
        {
          "output_type": "stream",
          "name": "stdout",
          "text": [
            "Enter the age of the first person: 23\n",
            "Enter the age of the second person: 27\n",
            "Enter the age of the third person: 13\n",
            "The oldest age is: 27\n",
            "The youngest age is: 13\n"
          ]
        }
      ]
    },
    {
      "cell_type": "markdown",
      "source": [
        "Write a program that asks the user for their exam score and\n",
        "calculates their grade based on the following conditions:\n",
        "a. A score of 90 or above is an A.\n",
        "b. A score between 80 and 89 is a B.\n",
        "c. A score between 70 and 79 is a C.\n",
        "d. A score below 70 is an F."
      ],
      "metadata": {
        "id": "ueQ_9YSyKnka"
      }
    },
    {
      "cell_type": "code",
      "source": [
        "\n",
        "score = int(input(\"Enter your exam score: \"))\n",
        "\n",
        "\n",
        "if score >= 90:\n",
        "    grade = 'A'\n",
        "elif score >= 80:\n",
        "    grade = 'B'\n",
        "elif score >= 70:\n",
        "    grade = 'C'\n",
        "else:\n",
        "    grade = 'F'\n",
        "\n",
        "print(\"Your grade is:\", grade)\n"
      ],
      "metadata": {
        "colab": {
          "base_uri": "https://localhost:8080/"
        },
        "id": "M0gFt2xuKoy9",
        "outputId": "1546cc76-ac7b-42fc-ea4b-3f6eaf3eb3ef"
      },
      "execution_count": 2,
      "outputs": [
        {
          "output_type": "stream",
          "name": "stdout",
          "text": [
            "Enter your exam score: 65\n",
            "Your grade is: F\n"
          ]
        }
      ]
    },
    {
      "cell_type": "markdown",
      "source": [
        "Create a program that asks the user for a list of grocery items they\n",
        "need to buy and organizes the list alphabetically"
      ],
      "metadata": {
        "id": "qNcZ9209LCNr"
      }
    },
    {
      "cell_type": "code",
      "source": [
        "\n",
        "grocery_list = input(\"Enter your grocery items separated by commas: \")\n",
        "\n",
        "\n",
        "items = [item.strip() for item in grocery_list.split(',')]\n",
        "\n",
        "items.sort()\n",
        "print(\"Sorted grocery list:\")\n",
        "for item in items:\n",
        "    print(item)\n"
      ],
      "metadata": {
        "colab": {
          "base_uri": "https://localhost:8080/"
        },
        "id": "G7JUpBMWLDh1",
        "outputId": "12df1bb3-3024-4ddd-c0be-931b0e99f887"
      },
      "execution_count": 4,
      "outputs": [
        {
          "output_type": "stream",
          "name": "stdout",
          "text": [
            "Enter your grocery items separated by commas:  vegetables,bucket,mug,bottle,kettle,cup\n",
            "Sorted grocery list:\n",
            "bottle\n",
            "bucket\n",
            "cup\n",
            "kettle\n",
            "mug\n",
            "vegetables\n"
          ]
        }
      ]
    },
    {
      "cell_type": "markdown",
      "source": [
        "Write a program that asks the user for an email address and\n",
        "checks if it is valid (contains an \"@\" symbol and a valid domain)."
      ],
      "metadata": {
        "id": "8l8CPht0MPxa"
      }
    },
    {
      "cell_type": "code",
      "source": [
        "\n",
        "email = input(\"Enter your email address: \")\n",
        "\n",
        "\n",
        "if \"@\" in email and email.count(\"@\") == 1:\n",
        "    local_part, domain_part = email.split(\"@\")\n",
        "    if \".\" in domain_part:\n",
        "        print(\"The email address is valid.\")\n",
        "    else:\n",
        "        print(\"The email address is invalid. Domain part must contain a dot.\")\n",
        "else:\n",
        "    print(\"The email address is invalid. It must contain exactly one '@' symbol.\")\n"
      ],
      "metadata": {
        "colab": {
          "base_uri": "https://localhost:8080/"
        },
        "id": "asUlaY1aMRMP",
        "outputId": "4ec361ee-f647-4862-d45e-df8595ee0b29"
      },
      "execution_count": 5,
      "outputs": [
        {
          "output_type": "stream",
          "name": "stdout",
          "text": [
            "Enter your email address: soory2002@gmail.com\n",
            "The email address is valid.\n"
          ]
        }
      ]
    },
    {
      "cell_type": "markdown",
      "source": [],
      "metadata": {
        "id": "4Mw5qd_TLwcp"
      }
    },
    {
      "cell_type": "markdown",
      "source": [
        "Create a program that asks the user for the number of days they\n",
        "have delayed returning a library book. If the delay is less than or\n",
        "equal to 7 days, there is no fine. If the delay is between 8 and 30\n",
        "days, apply a fine of 2 rupees per day. If the delay is more than\n",
        "30 days, apply a fine of 5 rupees per day. Print the total fine\n",
        "amount."
      ],
      "metadata": {
        "id": "F1_BmyFYMsiF"
      }
    },
    {
      "cell_type": "code",
      "source": [
        "\n",
        "delayed_days = int(input(\"Enter the number of days the book is delayed: \"))\n",
        "\n",
        "\n",
        "if delayed_days <= 7:\n",
        "    fine = 0\n",
        "elif 8 <= delayed_days <= 30:\n",
        "    fine = (delayed_days - 7) * 2\n",
        "else:\n",
        "    fine = (delayed_days - 30) * 5 + (30 - 7) * 2\n",
        "\n",
        "\n",
        "print(\"The total fine amount is:\", fine, \"rupees\")\n"
      ],
      "metadata": {
        "colab": {
          "base_uri": "https://localhost:8080/"
        },
        "id": "rRPoGSxqQD8c",
        "outputId": "0ebfdc94-6030-4dd5-9fdc-c282a21f5251"
      },
      "execution_count": 14,
      "outputs": [
        {
          "output_type": "stream",
          "name": "stdout",
          "text": [
            "Enter the number of days the book is delayed: 76\n",
            "The total fine amount is: 276 rupees\n"
          ]
        }
      ]
    },
    {
      "cell_type": "markdown",
      "source": [
        " Write a program that checks if a given character is a vowel. Use\n",
        "the in operator to check if the character is present in a string of\n",
        "vowels (\"aeiou\")."
      ],
      "metadata": {
        "id": "XO8pECb8M9b8"
      }
    },
    {
      "cell_type": "code",
      "source": [
        "\n",
        "char = input(\"Enter a character: \").lower()\n",
        "\n",
        "\n",
        "vowels = \"aeiou\"\n",
        "\n",
        "if char in vowels:\n",
        "    print(char, \"is a vowel.\")\n",
        "else:\n",
        "    print(char, \"is not a vowel.\")\n"
      ],
      "metadata": {
        "colab": {
          "base_uri": "https://localhost:8080/"
        },
        "id": "L9pQnXjxM-lB",
        "outputId": "6438003a-1825-438d-c49b-56cfa866bc09"
      },
      "execution_count": 9,
      "outputs": [
        {
          "output_type": "stream",
          "name": "stdout",
          "text": [
            "Enter a character: aeiou\n",
            "aeiou is a vowel.\n"
          ]
        }
      ]
    },
    {
      "cell_type": "markdown",
      "source": [
        " Implement a program that calculates the factorial of a number\n",
        "using a loop."
      ],
      "metadata": {
        "id": "T4IzQKKPNSON"
      }
    },
    {
      "cell_type": "code",
      "source": [
        "\n",
        "number = int(input(\"Enter a number to calculate its factorial: \"))\n",
        "\n",
        "factorial = 1\n",
        "\n",
        "\n",
        "for i in range(1, number + 1):\n",
        "    factorial *= i\n",
        "print(f\"The factorial of {number} is {factorial}.\")\n"
      ],
      "metadata": {
        "colab": {
          "base_uri": "https://localhost:8080/"
        },
        "id": "JcpG5x6FNTb9",
        "outputId": "b41e81cc-9abf-43a8-c1bb-5c475ec1cbb2"
      },
      "execution_count": 10,
      "outputs": [
        {
          "output_type": "stream",
          "name": "stdout",
          "text": [
            "Enter a number to calculate its factorial: 6\n",
            "The factorial of 6 is 720.\n"
          ]
        }
      ]
    },
    {
      "cell_type": "markdown",
      "source": [
        "Generate the Fibonacci sequence (0, 1, 1, 2, 3, ...) up to a certain\n",
        "limit using a loop."
      ],
      "metadata": {
        "id": "FIhVs00GNiub"
      }
    },
    {
      "cell_type": "code",
      "source": [
        "\n",
        "limit = int(input(\"Enter the limit for the Fibonacci sequence: \"))\n",
        "\n",
        "a, b = 0, 1\n",
        "print(\"Fibonacci sequence up to\", limit, \":\")\n",
        "while a <= limit:\n",
        "    print(a, end=\" \")\n",
        "    a, b = b, a + b\n"
      ],
      "metadata": {
        "colab": {
          "base_uri": "https://localhost:8080/"
        },
        "id": "XhZAuzGoNjyJ",
        "outputId": "dd3e85f1-5c78-4500-ee5a-a172957bc7f3"
      },
      "execution_count": 11,
      "outputs": [
        {
          "output_type": "stream",
          "name": "stdout",
          "text": [
            "Enter the limit for the Fibonacci sequence: 20\n",
            "Fibonacci sequence up to 20 :\n",
            "0 1 1 2 3 5 8 13 "
          ]
        }
      ]
    },
    {
      "cell_type": "markdown",
      "source": [
        "Create a number guessing game where the computer generates a\n",
        "random number and the user has to guess it within a certain\n",
        "number of attempts using a loop."
      ],
      "metadata": {
        "id": "81OCWh6bN4WD"
      }
    },
    {
      "cell_type": "code",
      "source": [
        "import random\n",
        "\n",
        "\n",
        "lower_bound = 1\n",
        "upper_bound = 100\n",
        "\n",
        "\n",
        "target_number = random.randint(lower_bound, upper_bound)\n",
        "\n",
        "\n",
        "max_attempts = 5\n",
        "attempts = 0\n",
        "\n",
        "print(f\"Guess the number between {lower_bound} and {upper_bound}. You have {max_attempts} attempts.\")\n",
        "\n",
        "while attempts < max_attempts:\n",
        "\n",
        "    guess = int(input(\"Enter your guess: \"))\n",
        "    attempts += 1\n",
        "\n",
        "\n",
        "    if guess < target_number:\n",
        "        print(\"Too low! Try again.\")\n",
        "    elif guess > target_number:\n",
        "        print(\"Too high! Try again.\")\n",
        "    else:\n",
        "        print(f\"Congratulations! You guessed the number {target_number} correctly in {attempts} attempts.\")\n",
        "        break\n",
        "else:\n",
        "\n",
        "    print(f\"Sorry, you've used all your attempts. The number was {target_number}.\")\n"
      ],
      "metadata": {
        "colab": {
          "base_uri": "https://localhost:8080/"
        },
        "id": "eq2M-PYAN6nm",
        "outputId": "1101daa2-a8b7-4b5f-e660-5fe749ad30f8"
      },
      "execution_count": 12,
      "outputs": [
        {
          "output_type": "stream",
          "name": "stdout",
          "text": [
            "Guess the number between 1 and 100. You have 5 attempts.\n",
            "Enter your guess: 76\n",
            "Too high! Try again.\n",
            "Enter your guess: 34\n",
            "Congratulations! You guessed the number 34 correctly in 2 attempts.\n"
          ]
        }
      ]
    },
    {
      "cell_type": "markdown",
      "source": [
        "Write a menu driven calculator with following menu:\n",
        "a. Addition\n",
        "b. Subtraction\n",
        "c. Division\n",
        "d. Multiplication\n",
        "e. Exit"
      ],
      "metadata": {
        "id": "Cjgzl9tbOSDq"
      }
    },
    {
      "cell_type": "code",
      "source": [
        "\n",
        "def calculator():\n",
        "    while True:\n",
        "\n",
        "        print(\"Menu:\")\n",
        "        print(\"a. Addition\")\n",
        "        print(\"b. Subtraction\")\n",
        "        print(\"c. Division\")\n",
        "        print(\"d. Multiplication\")\n",
        "        print(\"e. Exit\")\n",
        "\n",
        "\n",
        "        choice = input(\"Enter your choice (a/b/c/d/e): \").lower()\n",
        "\n",
        "\n",
        "        if choice == 'e':\n",
        "            print(\"Exiting the calculator. Goodbye!\")\n",
        "            break\n",
        "\n",
        "\n",
        "        if choice in ['a', 'b', 'c', 'd']:\n",
        "\n",
        "            num1 = float(input(\"Enter the first number: \"))\n",
        "            num2 = float(input(\"Enter the second number: \"))\n",
        "\n",
        "\n",
        "            if choice == 'a':\n",
        "                result = num1 + num2\n",
        "                print(f\"The result of addition is: {result}\")\n",
        "            elif choice == 'b':\n",
        "                result = num1 - num2\n",
        "                print(f\"The result of subtraction is: {result}\")\n",
        "            elif choice == 'c':\n",
        "                if num2 != 0:\n",
        "                    result = num1 / num2\n",
        "                    print(f\"The result of division is: {result}\")\n",
        "                else:\n",
        "                    print(\"Error: Division by zero is not allowed.\")\n",
        "            elif choice == 'd':\n",
        "                result = num1 * num2\n",
        "                print(f\"The result of multiplication is: {result}\")\n",
        "        else:\n",
        "            print(\"Invalid choice. Please select a valid option.\")\n",
        "\n",
        "calculator()\n"
      ],
      "metadata": {
        "colab": {
          "base_uri": "https://localhost:8080/"
        },
        "id": "9fkSw1NKOZVQ",
        "outputId": "1ae16e35-2524-47c2-8203-79db3d7e0115"
      },
      "execution_count": 13,
      "outputs": [
        {
          "output_type": "stream",
          "name": "stdout",
          "text": [
            "\n",
            "Menu:\n",
            "a. Addition\n",
            "b. Subtraction\n",
            "c. Division\n",
            "d. Multiplication\n",
            "e. Exit\n",
            "Enter your choice (a/b/c/d/e): 4/5/6/7\n",
            "Invalid choice! Please select a valid option.\n",
            "\n",
            "Menu:\n",
            "a. Addition\n",
            "b. Subtraction\n",
            "c. Division\n",
            "d. Multiplication\n",
            "e. Exit\n",
            "Enter your choice (a/b/c/d/e): a\n",
            "Enter the first number: 20\n",
            "Enter the second number: 4\n",
            "Result: 24.0\n",
            "\n",
            "Menu:\n",
            "a. Addition\n",
            "b. Subtraction\n",
            "c. Division\n",
            "d. Multiplication\n",
            "e. Exit\n",
            "Enter your choice (a/b/c/d/e): d\n",
            "Enter the first number: 8\n",
            "Enter the second number: 4\n",
            "Result: 32.0\n",
            "\n",
            "Menu:\n",
            "a. Addition\n",
            "b. Subtraction\n",
            "c. Division\n",
            "d. Multiplication\n",
            "e. Exit\n",
            "Enter your choice (a/b/c/d/e): e\n",
            "Exiting the calculator. Goodbye!\n"
          ]
        }
      ]
    },
    {
      "cell_type": "code",
      "source": [],
      "metadata": {
        "id": "s7pB_N6KOjZJ"
      },
      "execution_count": null,
      "outputs": []
    }
  ]
}