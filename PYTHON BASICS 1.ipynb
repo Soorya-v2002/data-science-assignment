{
  "nbformat": 4,
  "nbformat_minor": 0,
  "metadata": {
    "colab": {
      "provenance": [],
      "authorship_tag": "ABX9TyP2R4H+NslEgqRZ+h9fDCHA",
      "include_colab_link": true
    },
    "kernelspec": {
      "name": "python3",
      "display_name": "Python 3"
    },
    "language_info": {
      "name": "python"
    }
  },
  "cells": [
    {
      "cell_type": "markdown",
      "metadata": {
        "id": "view-in-github",
        "colab_type": "text"
      },
      "source": [
        "<a href=\"https://colab.research.google.com/github/Soorya-v2002/data-science-assignment/blob/main/PYTHON%20BASICS%201.ipynb\" target=\"_parent\"><img src=\"https://colab.research.google.com/assets/colab-badge.svg\" alt=\"Open In Colab\"/></a>"
      ]
    },
    {
      "cell_type": "code",
      "execution_count": 1,
      "metadata": {
        "colab": {
          "base_uri": "https://localhost:8080/"
        },
        "id": "rN__IKPdr34w",
        "outputId": "c6a8be80-fec7-4af9-b1cf-6cc6035ae8ca"
      },
      "outputs": [
        {
          "output_type": "stream",
          "name": "stdout",
          "text": [
            "Enter the radius: 3\n",
            "Area of Circle is 28.274333882308138\n"
          ]
        }
      ],
      "source": [
        "#.Write a Python program which accepts the radius of a circle from the user and compute the area. Sample input: Enter the radius: 3 Sample output: Area of Circle is 28.59999999999\n",
        "\n",
        "\n",
        "import math\n",
        "\n",
        "radius = float(input(\"Enter the radius: \"))\n",
        "\n",
        "area = math.pi * radius ** 2\n",
        "\n",
        "print(\"Area of Circle is\", area)"
      ]
    },
    {
      "cell_type": "code",
      "source": [
        "#2.Write a Python Program to accept the details of a student like name, roll number and mark and display it. Sample input: Enter the name: Anisha Enter the roll number: 21 Enter the mark: 78 Sample output: Name: Anisha Roll No: 21 Mark: 78\n",
        "\n",
        "\n",
        "\n",
        "name = input(\"Enter the name: \")\n",
        "roll_number = input(\"Enter the roll number: \")\n",
        "mark = input(\"Enter the mark: \")\n",
        "print(\"\\nName:\", name)\n",
        "print(\"Roll No:\", roll_number)\n",
        "print(\"Mark:\", mark)#"
      ],
      "metadata": {
        "colab": {
          "base_uri": "https://localhost:8080/"
        },
        "id": "sIGpN7JZsMHT",
        "outputId": "f20054f9-5e53-46fa-ceaa-3d5ec358508f"
      },
      "execution_count": 3,
      "outputs": [
        {
          "output_type": "stream",
          "name": "stdout",
          "text": [
            "Enter the name: anisha\n",
            "Enter the roll number: 21\n",
            "Enter the mark: 78\n",
            "\n",
            "Name: anisha\n",
            "Roll No: 21\n",
            "Mark: 78\n"
          ]
        }
      ]
    },
    {
      "cell_type": "code",
      "source": [
        "#Write a Python program to get the largest number from a list. Sample input: 12, 3, 47, 10 Sample output: 47 is the largest number\n",
        "\n",
        "\n",
        "numbers = input(\"Enter numbers separated by commas: \")\n",
        "\n",
        "number_list = [int(num) for num in numbers.split(',')]\n",
        "\n",
        "largest_number = max(number_list)\n",
        "print(f\"{largest_number} is the largest number\")\n"
      ],
      "metadata": {
        "colab": {
          "base_uri": "https://localhost:8080/"
        },
        "id": "PEmoSVDdsamD",
        "outputId": "26c543af-1a25-413d-dfb4-da442d4d9da9"
      },
      "execution_count": 5,
      "outputs": [
        {
          "output_type": "stream",
          "name": "stdout",
          "text": [
            "Enter numbers separated by commas: 12,2,47,10\n",
            "47 is the largest number\n"
          ]
        }
      ]
    },
    {
      "cell_type": "code",
      "source": [
        "#Given a range of first 10 numbers, write a Python program to iterate from start number to the end number and print the sum of the current number and previous number. Sample input: 1….10 Sample output: Current Number 1 Previous Number 0 Sum: 1 Current Number 2 Previous Number 1 Sum: 3 Current Number 3 Previous Number 2 Sum: 5… Current Number 10 Previous Number 9 Sum: 19\n",
        "\n",
        "\n",
        "\n",
        "prev_num = 0\n",
        "\n",
        "for curr_num in range(1, 11):\n",
        "    total = curr_num + prev_num\n",
        "    print(f\"Current Number {curr_num} Previous Number {prev_num} Sum: {total}\")\n",
        "    prev_num = curr_num"
      ],
      "metadata": {
        "colab": {
          "base_uri": "https://localhost:8080/"
        },
        "id": "N_YlPD6msyTg",
        "outputId": "5e4b07f7-61c4-4991-d209-8f20ac887836"
      },
      "execution_count": 6,
      "outputs": [
        {
          "output_type": "stream",
          "name": "stdout",
          "text": [
            "Current Number 1 Previous Number 0 Sum: 1\n",
            "Current Number 2 Previous Number 1 Sum: 3\n",
            "Current Number 3 Previous Number 2 Sum: 5\n",
            "Current Number 4 Previous Number 3 Sum: 7\n",
            "Current Number 5 Previous Number 4 Sum: 9\n",
            "Current Number 6 Previous Number 5 Sum: 11\n",
            "Current Number 7 Previous Number 6 Sum: 13\n",
            "Current Number 8 Previous Number 7 Sum: 15\n",
            "Current Number 9 Previous Number 8 Sum: 17\n",
            "Current Number 10 Previous Number 9 Sum: 19\n"
          ]
        }
      ]
    },
    {
      "cell_type": "code",
      "source": [
        "#Write a Python program to print only those numbers which are divisible of 5. Sample input: 10, 20,33,46,55 Sample output: 10, 20, 55\n",
        "\n",
        "\n",
        "numbers = input(\"Enter numbers separated by commas: \")\n",
        "number_list = [int(num) for num in numbers.split(',')]\n",
        "divisible_by_five = [num for num in number_list if num % 5 == 0]\n",
        "print(\"Numbers divisible by 5:\", \", \".join(map(str, divisible_by_five)))"
      ],
      "metadata": {
        "colab": {
          "base_uri": "https://localhost:8080/"
        },
        "id": "yA07Pk34ttPY",
        "outputId": "0dc35139-b907-4197-a1f7-4f05ffb2820d"
      },
      "execution_count": 8,
      "outputs": [
        {
          "output_type": "stream",
          "name": "stdout",
          "text": [
            "Enter numbers separated by commas: 10, 20,33,46,55 \n",
            "Numbers divisible by 5: 10, 20, 55\n"
          ]
        }
      ]
    },
    {
      "cell_type": "code",
      "source": [
        "# Write a Python program to check whether a number is prime or not. Sample input: Enter the number: 3 Sample output: 3 is a prime number.\n",
        "\n",
        "\n",
        "def is_prime(number):\n",
        "    if number <= 1:\n",
        "        return False\n",
        "    for i in range(2, int(number ** 0.5) + 1):\n",
        "        if number % i == 0:\n",
        "            return False\n",
        "    return True\n",
        "num = int(input(\"Enter the number: \"))\n",
        "if is_prime(num):\n",
        "    print(f\"{num} is a prime number.\")\n",
        "else:\n",
        "    print(f\"{num} is not a prime number.\")\n"
      ],
      "metadata": {
        "colab": {
          "base_uri": "https://localhost:8080/"
        },
        "id": "sjvahmkXt2CA",
        "outputId": "342f3889-9bbc-45b2-83a0-3a4fc26ddd7f"
      },
      "execution_count": 9,
      "outputs": [
        {
          "output_type": "stream",
          "name": "stdout",
          "text": [
            "Enter the number: 3\n",
            "3 is a prime number.\n"
          ]
        }
      ]
    },
    {
      "cell_type": "code",
      "source": [
        "#Write a Python program to reverse a list using for loop. Sample input: 10,40,30,70 Sample output: 70,30,40,10\n",
        "\n",
        "\n",
        "numbers = input(\"Enter numbers separated by commas: \")\n",
        "number_list = [int(num) for num in numbers.split(',')]\n",
        "reversed_list = []\n",
        "for i in range(len(number_list) - 1, -1, -1):\n",
        "    reversed_list.append(number_list[i])\n",
        "print(\"Reversed list:\", \", \".join(map(str, reversed_list)))"
      ],
      "metadata": {
        "colab": {
          "base_uri": "https://localhost:8080/"
        },
        "id": "eku5btw6uUM9",
        "outputId": "5f47a268-d1ed-44a9-f1c1-c7b8979bb581"
      },
      "execution_count": 10,
      "outputs": [
        {
          "output_type": "stream",
          "name": "stdout",
          "text": [
            "Enter numbers separated by commas: 10,40,30,70\n",
            "Reversed list: 70, 30, 40, 10\n"
          ]
        }
      ]
    },
    {
      "cell_type": "code",
      "source": [
        "# Write a Python program to print the following pattern **\n",
        "\n",
        "rows = 4\n",
        "for i in range(1, rows + 1):\n",
        "    print('*' * i)\n"
      ],
      "metadata": {
        "colab": {
          "base_uri": "https://localhost:8080/"
        },
        "id": "GjcoDtbMuo2N",
        "outputId": "ca9cb9f8-aac8-4af4-a6c8-faacc49ee177"
      },
      "execution_count": 12,
      "outputs": [
        {
          "output_type": "stream",
          "name": "stdout",
          "text": [
            "*\n",
            "**\n",
            "***\n",
            "****\n"
          ]
        }
      ]
    },
    {
      "cell_type": "code",
      "source": [
        "#Write a Python program to find the maximum of three numbers Sample input: 34,12,7 Sample output: 34\n",
        "\n",
        "num1, num2, num3 = map(int, input(\"Enter three numbers separated by commas: \").split(','))\n",
        "maximum = max(num1, num2, num3)\n",
        "print(\"The maximum number is:\", maximum)\n"
      ],
      "metadata": {
        "colab": {
          "base_uri": "https://localhost:8080/"
        },
        "id": "JH2aBD8yu_uy",
        "outputId": "7082a092-45b2-4f5e-901f-09351d757407"
      },
      "execution_count": 13,
      "outputs": [
        {
          "output_type": "stream",
          "name": "stdout",
          "text": [
            "Enter three numbers separated by commas: 34,12,7\n",
            "The maximum number is: 34\n"
          ]
        }
      ]
    },
    {
      "cell_type": "code",
      "source": [
        "#Write a Python program to construct the following pattern, using a nested for loop.\n",
        "#*****\n",
        "\n",
        "\n",
        "rows = 5\n",
        "for i in range(1, rows + 1):\n",
        "    print('*' * i)\n",
        "for i in range(rows - 1, 0, -1):\n",
        "    print('*' * i)\n"
      ],
      "metadata": {
        "colab": {
          "base_uri": "https://localhost:8080/"
        },
        "id": "zqIQADFJvo8V",
        "outputId": "ab391d73-de73-4e1a-e68b-86817db09037"
      },
      "execution_count": 15,
      "outputs": [
        {
          "output_type": "stream",
          "name": "stdout",
          "text": [
            "*\n",
            "**\n",
            "***\n",
            "****\n",
            "*****\n",
            "****\n",
            "***\n",
            "**\n",
            "*\n"
          ]
        }
      ]
    },
    {
      "cell_type": "code",
      "source": [],
      "metadata": {
        "id": "Hwv_WW4Rv0hu"
      },
      "execution_count": null,
      "outputs": []
    }
  ]
}