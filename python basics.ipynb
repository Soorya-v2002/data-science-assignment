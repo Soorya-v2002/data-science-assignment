{
  "nbformat": 4,
  "nbformat_minor": 0,
  "metadata": {
    "colab": {
      "provenance": [],
      "authorship_tag": "ABX9TyOlJpgKVl/rcQO8msMmvkhk",
      "include_colab_link": true
    },
    "kernelspec": {
      "name": "python3",
      "display_name": "Python 3"
    },
    "language_info": {
      "name": "python"
    }
  },
  "cells": [
    {
      "cell_type": "markdown",
      "metadata": {
        "id": "view-in-github",
        "colab_type": "text"
      },
      "source": [
        "<a href=\"https://colab.research.google.com/github/Soorya-v2002/data-science-assignment/blob/main/python%20basics.ipynb\" target=\"_parent\"><img src=\"https://colab.research.google.com/assets/colab-badge.svg\" alt=\"Open In Colab\"/></a>"
      ]
    },
    {
      "cell_type": "markdown",
      "source": [
        "1. Given the string \"Hello, World!\", extract and print the\n",
        "substring \"Hello\"."
      ],
      "metadata": {
        "id": "NmrO4V56A77q"
      }
    },
    {
      "cell_type": "code",
      "source": [
        "text = \"Hello, World!\"\n",
        "substring = text[:5]\n",
        "print(substring)\n"
      ],
      "metadata": {
        "colab": {
          "base_uri": "https://localhost:8080/"
        },
        "id": "2WWJoMCiBBSn",
        "outputId": "c255610f-4c2c-481e-a0f2-c33ea475c6e5"
      },
      "execution_count": null,
      "outputs": [
        {
          "output_type": "stream",
          "name": "stdout",
          "text": [
            "Hello\n"
          ]
        }
      ]
    },
    {
      "cell_type": "markdown",
      "source": [],
      "metadata": {
        "id": "4Yzq5GYYBH18"
      }
    },
    {
      "cell_type": "markdown",
      "source": [
        ". Given the string \"Python is fun\", extract and print the\n",
        "substring \"is\"."
      ],
      "metadata": {
        "id": "OxZZFAQSBJ51"
      }
    },
    {
      "cell_type": "code",
      "source": [
        "text = \"Python is fun\"\n",
        "substring = text[7:9]\n",
        "print(substring)\n"
      ],
      "metadata": {
        "colab": {
          "base_uri": "https://localhost:8080/"
        },
        "id": "aZf6LzZgBRFc",
        "outputId": "4cc23980-2af7-4c0d-deb5-db07fad0de44"
      },
      "execution_count": null,
      "outputs": [
        {
          "output_type": "stream",
          "name": "stdout",
          "text": [
            "is\n"
          ]
        }
      ]
    },
    {
      "cell_type": "code",
      "source": [],
      "metadata": {
        "id": "UbYSadDqBUWL"
      },
      "execution_count": null,
      "outputs": []
    },
    {
      "cell_type": "markdown",
      "source": [
        "Given the string \"Programming\", extract and print the\n",
        "substring \"gram\" using slicing indices."
      ],
      "metadata": {
        "id": "24qGMshfBbHl"
      }
    },
    {
      "cell_type": "code",
      "source": [
        "text = \"Programming\"\n",
        "substring = text[3:7]\n",
        "print(substring)\n"
      ],
      "metadata": {
        "colab": {
          "base_uri": "https://localhost:8080/"
        },
        "id": "88YuJ4LuBcLR",
        "outputId": "3c826e9b-6fc7-4e35-b98b-02aec56eb428"
      },
      "execution_count": null,
      "outputs": [
        {
          "output_type": "stream",
          "name": "stdout",
          "text": [
            "gram\n"
          ]
        }
      ]
    },
    {
      "cell_type": "code",
      "source": [],
      "metadata": {
        "id": "A42WUjrKBfU4"
      },
      "execution_count": null,
      "outputs": []
    },
    {
      "cell_type": "markdown",
      "source": [
        "Given the string \"abcdefgh\", use slicing to print only the\n",
        "characters at even indices."
      ],
      "metadata": {
        "id": "FN0e8jm6BiYO"
      }
    },
    {
      "cell_type": "code",
      "source": [
        "text = \"abcdefgh\"\n",
        "even_indices = text[0::2]\n",
        "print(even_indices)\n"
      ],
      "metadata": {
        "colab": {
          "base_uri": "https://localhost:8080/"
        },
        "id": "XLBdQXL1BoMp",
        "outputId": "f6644d10-4fc7-4113-9d49-90706e239558"
      },
      "execution_count": null,
      "outputs": [
        {
          "output_type": "stream",
          "name": "stdout",
          "text": [
            "aceg\n"
          ]
        }
      ]
    },
    {
      "cell_type": "code",
      "source": [],
      "metadata": {
        "id": "rIKz342RBpJg"
      },
      "execution_count": null,
      "outputs": []
    },
    {
      "cell_type": "markdown",
      "source": [
        "Given the string \"abcdefg\", use negative indices to extract\n",
        "and print the substring \"efg\"."
      ],
      "metadata": {
        "id": "m7cctvDEBqDl"
      }
    },
    {
      "cell_type": "code",
      "source": [
        "text = \"abcdefg\"\n",
        "substring = text[-3:]\n",
        "print(substring)\n"
      ],
      "metadata": {
        "id": "wSDEU0xRBwvw"
      },
      "execution_count": null,
      "outputs": []
    },
    {
      "cell_type": "markdown",
      "source": [
        "Given the string \"Data Science\", use negative indices to\n",
        "extract and print the last three characters."
      ],
      "metadata": {
        "id": "-yWgtovUB1aF"
      }
    },
    {
      "cell_type": "code",
      "source": [
        "text = \"Data Science\"\n",
        "substring = text[-3:]\n",
        "print(substring)\n"
      ],
      "metadata": {
        "colab": {
          "base_uri": "https://localhost:8080/"
        },
        "id": "vzsSVyPXB6F6",
        "outputId": "99307b91-c608-4077-b6ef-26bcba6bb38c"
      },
      "execution_count": null,
      "outputs": [
        {
          "output_type": "stream",
          "name": "stdout",
          "text": [
            "nce\n"
          ]
        }
      ]
    },
    {
      "cell_type": "markdown",
      "source": [
        "Given the string \"abcdefghij\", use slicing with a step to\n",
        "print every second character."
      ],
      "metadata": {
        "id": "uSsF92hQCB5_"
      }
    },
    {
      "cell_type": "code",
      "source": [
        "text = \"abcdefghij\"\n",
        "every_second_char = text[::2]\n",
        "print(every_second_char)\n"
      ],
      "metadata": {
        "colab": {
          "base_uri": "https://localhost:8080/"
        },
        "id": "lBLxWA2OCIJA",
        "outputId": "03ee5337-50a8-4ce1-b1af-b7c8b0181405"
      },
      "execution_count": null,
      "outputs": [
        {
          "output_type": "stream",
          "name": "stdout",
          "text": [
            "acegi\n"
          ]
        }
      ]
    },
    {
      "cell_type": "code",
      "source": [],
      "metadata": {
        "id": "4Gx7jUSLCJSs"
      },
      "execution_count": null,
      "outputs": []
    },
    {
      "cell_type": "markdown",
      "source": [
        "print every second character.\n",
        "8. Given the string \"1234567890\", use slicing with a step to\n",
        "print the odd digits."
      ],
      "metadata": {
        "id": "Jdu1c_fiCOCZ"
      }
    },
    {
      "cell_type": "code",
      "source": [
        "text = \"1234567890\"\n",
        "odd_digits = text[::2]\n",
        "print(odd_digits)\n"
      ],
      "metadata": {
        "colab": {
          "base_uri": "https://localhost:8080/"
        },
        "id": "tmvpT6KCCPO4",
        "outputId": "0dcc6b72-abd9-479c-f4c6-21dc91a43e2b"
      },
      "execution_count": null,
      "outputs": [
        {
          "output_type": "stream",
          "name": "stdout",
          "text": [
            "13579\n"
          ]
        }
      ]
    },
    {
      "cell_type": "code",
      "source": [],
      "metadata": {
        "id": "bCChw9fpCRBI"
      },
      "execution_count": null,
      "outputs": []
    },
    {
      "cell_type": "markdown",
      "source": [
        "Given the string \"Hello\", use slicing to print the string in\n",
        "reverse order."
      ],
      "metadata": {
        "id": "LpNzw5ufCU7f"
      }
    },
    {
      "cell_type": "code",
      "source": [
        "text = \"Hello\"\n",
        "reversed_text = text[::-1]\n",
        "print(reversed_text)\n"
      ],
      "metadata": {
        "colab": {
          "base_uri": "https://localhost:8080/"
        },
        "id": "qqngRgkXCWZh",
        "outputId": "8e2d2e78-e8eb-4fde-8a3f-7d8165692efb"
      },
      "execution_count": null,
      "outputs": [
        {
          "output_type": "stream",
          "name": "stdout",
          "text": [
            "olleH\n"
          ]
        }
      ]
    },
    {
      "cell_type": "code",
      "source": [],
      "metadata": {
        "id": "x_pgW_WpCYb_"
      },
      "execution_count": null,
      "outputs": []
    },
    {
      "cell_type": "markdown",
      "source": [
        "Given the string \"abcdefghijk\", extract and print the\n",
        "substring \"acegik\" using slicing."
      ],
      "metadata": {
        "id": "1CCy7LMJCfpY"
      }
    },
    {
      "cell_type": "code",
      "source": [
        "text = \"abcdefghijk\"\n",
        "substring = text[::2]\n",
        "print(substring)\n"
      ],
      "metadata": {
        "id": "jZF6qOvBCgkR"
      },
      "execution_count": null,
      "outputs": []
    },
    {
      "cell_type": "markdown",
      "source": [],
      "metadata": {
        "id": "3Ucl9YaZCjff"
      }
    },
    {
      "cell_type": "markdown",
      "source": [
        "Write a program to find sum of all elements in a list of\n",
        "integers.\n"
      ],
      "metadata": {
        "id": "X9WH8-QiCnIE"
      }
    },
    {
      "cell_type": "code",
      "source": [
        "\n",
        "numbers = [1, 2, 3, 4, 5]\n",
        "\n",
        "\n",
        "total_sum = sum(numbers)\n",
        "\n",
        "\n",
        "print(\"The sum of all elements in the list is:\", total_sum)\n"
      ],
      "metadata": {
        "colab": {
          "base_uri": "https://localhost:8080/"
        },
        "id": "8cSvYmUMCoZp",
        "outputId": "a0514081-f5a0-4b46-cdcb-935ed143cc8d"
      },
      "execution_count": null,
      "outputs": [
        {
          "output_type": "stream",
          "name": "stdout",
          "text": [
            "The sum of all elements in the list is: 15\n"
          ]
        }
      ]
    },
    {
      "cell_type": "code",
      "source": [],
      "metadata": {
        "id": "CKnlzv54Cqf-"
      },
      "execution_count": null,
      "outputs": []
    },
    {
      "cell_type": "markdown",
      "source": [
        "Input a sentence as a string.\n",
        "a) Print its length\n",
        "b) Print the first half of string\n"
      ],
      "metadata": {
        "id": "hGwJKSj7CvNV"
      }
    },
    {
      "cell_type": "code",
      "source": [
        "\n",
        "sentence = input(\"Enter a sentence: \")\n",
        "\n",
        "\n",
        "length = len(sentence)\n",
        "print(\"Length of the sentence:\", length)\n",
        "\n",
        "\n",
        "half_length = length // 2\n",
        "first_half = sentence[:half_length]\n",
        "print(\"First half of the sentence:\", first_half)\n"
      ],
      "metadata": {
        "id": "ROkL6Xm6Cwur"
      },
      "execution_count": null,
      "outputs": []
    },
    {
      "cell_type": "markdown",
      "source": [],
      "metadata": {
        "id": "m7lglTIwCzbC"
      }
    },
    {
      "cell_type": "markdown",
      "source": [
        "Write a program to enter a tuple of integers as\n",
        "(78,45,32,19,82,77,40,39). Change the third value in the tuple to\n",
        "100\n"
      ],
      "metadata": {
        "id": "CfMi0ArlC3Zx"
      }
    },
    {
      "cell_type": "code",
      "source": [
        "\n",
        "original_tuple = (78, 45, 32, 19, 82, 77, 40, 39)\n",
        "\n",
        "\n",
        "temp_list = list(original_tuple)\n",
        "\n",
        "\n",
        "temp_list[2] = 100\n",
        "\n",
        "modified_tuple = tuple(temp_list)\n",
        "\n",
        "print(\"Modified tuple:\", modified_tuple)\n"
      ],
      "metadata": {
        "colab": {
          "base_uri": "https://localhost:8080/"
        },
        "id": "tiRQ2jWsC40-",
        "outputId": "26d42495-9746-4168-b109-ebbb5e80e9e8"
      },
      "execution_count": null,
      "outputs": [
        {
          "output_type": "stream",
          "name": "stdout",
          "text": [
            "Modified tuple: (78, 45, 100, 19, 82, 77, 40, 39)\n"
          ]
        }
      ]
    },
    {
      "cell_type": "code",
      "source": [],
      "metadata": {
        "id": "ewJAzQWYC67q"
      },
      "execution_count": null,
      "outputs": []
    },
    {
      "cell_type": "markdown",
      "source": [
        "Consider a list\n",
        "listA=[19,32,10,55,31,32,94,29,10,65,77,40,40]\n",
        "(a) Delete the first occurrence of 32\n",
        "(b) Delete all occurrences of 40\n",
        "(c) Delete the value at index=5\n",
        "(d) Modify the value at index=9 as 300\n",
        "(e) Add 200 at index=2\n",
        "(f) Print the final list with its length, maximum value\n",
        "and sum of all elements"
      ],
      "metadata": {
        "id": "1b14SHuZC_kh"
      }
    },
    {
      "cell_type": "code",
      "source": [
        "\n",
        "listA = [19, 32, 10, 55, 31, 32, 94, 29, 10, 65, 77, 40, 40]\n",
        "\n",
        "# (a)\n",
        "if 32 in listA:\n",
        "    listA.remove(32)\n",
        "\n",
        "# (b)\n",
        "listA = [x for x in listA if x != 40]\n",
        "\n",
        "# (c)\n",
        "if len(listA) > 5:\n",
        "    del listA[5]\n",
        "\n",
        "# (d)\n",
        "if len(listA) > 9:\n",
        "    listA[9] = 300\n",
        "\n",
        "# (e)\n",
        "listA.insert(2, 200)\n",
        "\n",
        "# (f)\n",
        "print(\"Final list:\", listA)\n",
        "print(\"Length of the list:\", len(listA))\n",
        "print(\"Maximum value in the list:\", max(listA))\n",
        "print(\"Sum of all elements in the list:\", sum(listA))\n"
      ],
      "metadata": {
        "colab": {
          "base_uri": "https://localhost:8080/"
        },
        "id": "HU10OeePDBH6",
        "outputId": "58a50d1c-7d39-449c-c6ff-769fd67e6c64"
      },
      "execution_count": null,
      "outputs": [
        {
          "output_type": "stream",
          "name": "stdout",
          "text": [
            "Final list: [19, 10, 200, 55, 31, 32, 29, 10, 65, 77]\n",
            "Length of the list: 10\n",
            "Maximum value in the list: 200\n",
            "Sum of all elements in the list: 528\n"
          ]
        }
      ]
    },
    {
      "cell_type": "markdown",
      "source": [],
      "metadata": {
        "id": "_m6MJmCdDHuA"
      }
    },
    {
      "cell_type": "markdown",
      "source": [
        "Consider a string ”The day has been long”.\n",
        "(a) Delete the value at index =4\n",
        "(b) Print the string 4 times in a single line with space\n",
        "between each repetition\n",
        "(c) Print the string 3 times in a new line each time\n",
        "(d) Modify the string at index 7 as ’A’\n",
        "(e) Print the string from index 4 to 15\n",
        "(f) Print the final string with its length"
      ],
      "metadata": {
        "id": "NwamtBARDMSi"
      }
    },
    {
      "cell_type": "code",
      "source": [
        "\n",
        "\n",
        "text = \"The day has been long\"\n",
        "\n",
        "# (a)\n",
        "text_a = text[:4] + text[5:]\n",
        "\n",
        "# (b)\n",
        "print(text * 4)\n",
        "\n",
        "# (c)\n",
        "for _ in range(3):\n",
        "    print(text)\n",
        "\n",
        "# (d)\n",
        "text_d = text[:7] + 'A' + text[8:]\n",
        "\n",
        "# (e)\n",
        "print(text[4:16])\n",
        "\n",
        "# (f)\n",
        "print(\"Final string:\", text_d)\n",
        "print(\"Length of the final string:\", len(text_d))\n",
        "\n"
      ],
      "metadata": {
        "colab": {
          "base_uri": "https://localhost:8080/"
        },
        "id": "vLnFkAkfDNWS",
        "outputId": "8d0b7362-1498-4591-f816-4e8189384f7d"
      },
      "execution_count": null,
      "outputs": [
        {
          "output_type": "stream",
          "name": "stdout",
          "text": [
            "The day has been longThe day has been longThe day has been longThe day has been long\n",
            "The day has been long\n",
            "The day has been long\n",
            "The day has been long\n",
            "day has been\n",
            "Final string: The dayAhas been long\n",
            "Length of the final string: 21\n"
          ]
        }
      ]
    },
    {
      "cell_type": "code",
      "source": [],
      "metadata": {
        "id": "BWtUgFPnDP8y"
      },
      "execution_count": null,
      "outputs": []
    }
  ]
}